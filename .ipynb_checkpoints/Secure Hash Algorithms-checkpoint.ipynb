{
 "cells": [
  {
   "cell_type": "markdown",
   "source": [
    "Certainly! Let's delve into the theory behind Secure Hash Algorithms (SHA), with a focus on the ones you mentioned: SHA-256, SHA-384, SHA-224, SHA-512, and SHA-1.\n",
    "\n",
    "### Overview of Secure Hash Algorithms (SHA):\n",
    "\n",
    "**1. What is a Hash Function?**\n",
    "A hash function is a mathematical algorithm that takes an input (or 'message') and produces a fixed-size string of characters, which is typically a hash code. The output, or hash, is unique to the input data, and even a small change in the input should result in a significantly different hash.\n",
    "\n",
    "**2. Purpose of Hash Functions:**\n",
    "Hash functions serve various purposes, including data integrity verification, digital signatures, password storage, and, notably, in the context of blockchain, ensuring the integrity of blocks and creating unique identifiers for transactions.\n",
    "\n",
    "### SHA-2 Family:\n",
    "\n",
    "SHA-2 is a family of hash functions with different bit lengths: SHA-224, SHA-256, SHA-384, SHA-512, SHA-512/224, and SHA-512/256. The number in each name denotes the length of the hash output in bits.\n",
    "\n",
    "**1. SHA-256:**\n",
    "   - Output Size: 256 bits\n",
    "   - Internal Block Size: 32 bits\n",
    "   - It is widely used in blockchain technology, providing a balance between security and efficiency.\n",
    "\n",
    "**2. SHA-384:**\n",
    "   - Output Size: 384 bits\n",
    "   - Internal Block Size: 32 bits\n",
    "   - Truncated version of SHA-512, often used in digital signatures and certificates.\n",
    "\n",
    "**3. SHA-224:**\n",
    "   - Output Size: 224 bits\n",
    "   - Internal Block Size: 32 bits\n",
    "   - A truncated version of SHA-256, designed for applications with limited space.\n",
    "\n",
    "**4. SHA-512:**\n",
    "   - Output Size: 512 bits\n",
    "   - Internal Block Size: 64 bits\n",
    "   - Offers a higher level of security, often used in critical applications.\n",
    "\n",
    "### SHA-1 (Included for Comparison):\n",
    "\n",
    "**SHA-1:**\n",
    "   - Output Size: 160 bits\n",
    "   - Internal Block Size: 32 bits\n",
    "   - Deprecated due to vulnerabilities; should not be used for cryptographic purposes.\n",
    "\n",
    "### Hashing Process:\n",
    "\n",
    "1. **Encoding:**\n",
    "   - Before hashing, the input data is encoded into bytes. In the provided Python code, `str1.encode()` converts the string \"Krish Naik1\" into bytes.\n",
    "\n",
    "2. **Hash Calculation:**\n",
    "   - The hash object, such as `hashlib.sha256()`, is initialized with the encoded data.\n",
    "   - The `update()` method can be used for incremental updates, but in this example, it's not necessary.\n",
    "\n",
    "3. **Hexadecimal Representation:**\n",
    "   - The `hexdigest()` method converts the binary hash into a human-readable hexadecimal representation.\n",
    "\n",
    "### Use Cases:\n",
    "\n",
    "- **Blockchain:**\n",
    "  - In blockchain technology, SHA-256 is commonly used to create unique identifiers (hashes) for blocks.\n",
    "  - The deterministic nature of hash functions ensures that a block's hash changes if any information in the block is modified, maintaining the integrity of the blockchain.\n",
    "\n",
    "- **Data Integrity:**\n",
    "  - Hash functions are used to verify the integrity of transmitted or stored data. The recipient can recompute the hash and check if it matches the original hash.\n",
    "\n",
    "- **Digital Signatures:**\n",
    "  - Hash functions are an integral part of digital signatures, providing a compact representation of data that is signed for verification purposes.\n",
    "\n",
    "In summary, Secure Hash Algorithms play a crucial role in ensuring data integrity, security, and uniqueness in various applications, with SHA-256 being a fundamental component in blockchain technology."
   ],
   "metadata": {
    "collapsed": false
   },
   "id": "9cdcb86dc067725d"
  },
  {
   "cell_type": "code",
   "execution_count": null,
   "outputs": [],
   "source": [],
   "metadata": {
    "collapsed": false
   },
   "id": "97a7b01d25d9ab80"
  },
  {
   "cell_type": "code",
   "execution_count": null,
   "outputs": [],
   "source": [
    "print(\"hello\")"
   ],
   "metadata": {
    "collapsed": false,
    "is_executing": true
   },
   "id": "77ee8aedb69b31d8"
  },
  {
   "cell_type": "code",
   "execution_count": null,
   "outputs": [],
   "source": [],
   "metadata": {
    "collapsed": false,
    "is_executing": true
   },
   "id": "7bec1e1133132868"
  },
  {
   "cell_type": "code",
   "execution_count": null,
   "outputs": [],
   "source": [],
   "metadata": {
    "collapsed": false
   },
   "id": "9a1517396dda7d86"
  }
 ],
 "metadata": {
  "kernelspec": {
   "display_name": "Python 3",
   "language": "python",
   "name": "python3"
  },
  "language_info": {
   "codemirror_mode": {
    "name": "ipython",
    "version": 2
   },
   "file_extension": ".py",
   "mimetype": "text/x-python",
   "name": "python",
   "nbconvert_exporter": "python",
   "pygments_lexer": "ipython2",
   "version": "2.7.6"
  }
 },
 "nbformat": 4,
 "nbformat_minor": 5
}
